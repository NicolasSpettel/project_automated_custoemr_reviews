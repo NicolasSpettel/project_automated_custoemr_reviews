{
 "cells": [
  {
   "cell_type": "markdown",
   "id": "e5c10b7a",
   "metadata": {},
   "source": [
    "# Amazon Reviews Data Cleaning & Analysis\n",
    "This notebook loads, merges, and cleans multiple Amazon review datasets.\n",
    "It also performs exploratory data analysis (EDA) and visualization.\n",
    "Finally, the cleaned dataset is saved for further processing."
   ]
  },
  {
   "cell_type": "code",
   "execution_count": 1,
   "id": "deab5f97",
   "metadata": {},
   "outputs": [],
   "source": [
    "import os\n",
    "import pandas as pd\n",
    "import matplotlib.pyplot as plt\n",
    "import seaborn as sns"
   ]
  },
  {
   "cell_type": "markdown",
   "id": "c9ce214d",
   "metadata": {},
   "source": [
    "## Load Data"
   ]
  },
  {
   "cell_type": "code",
   "execution_count": 2,
   "id": "6e7d7b8e",
   "metadata": {},
   "outputs": [
    {
     "name": "stderr",
     "output_type": "stream",
     "text": [
      "C:\\Users\\nicol\\AppData\\Local\\Temp\\ipykernel_15348\\3268023975.py:10: DtypeWarning: Columns (1,10) have mixed types. Specify dtype option on import or set low_memory=False.\n",
      "  data_1429_1 = pd.read_csv(os.path.join(DATA_DIR, \"1429_1.csv\"))\n"
     ]
    }
   ],
   "source": [
    "SCRIPT_DIR = os.getcwd()\n",
    "DATA_DIR = os.path.join(SCRIPT_DIR, \"../data/raw/\")\n",
    "\n",
    "datafiniti_amazon_1 = pd.read_csv(\n",
    "    os.path.join(DATA_DIR, \"Datafiniti_Amazon_Consumer_Reviews_of_Amazon_Products.csv\")\n",
    ")\n",
    "datafiniti_amazon_may19 = pd.read_csv(\n",
    "    os.path.join(DATA_DIR, \"Datafiniti_Amazon_Consumer_Reviews_of_Amazon_Products_May19.csv\")\n",
    ")\n",
    "data_1429_1 = pd.read_csv(os.path.join(DATA_DIR, \"1429_1.csv\"))"
   ]
  },
  {
   "cell_type": "markdown",
   "id": "a462b2e5",
   "metadata": {},
   "source": [
    "## Quick Dataset Checks"
   ]
  },
  {
   "cell_type": "code",
   "execution_count": 3,
   "id": "3a1f7c09",
   "metadata": {},
   "outputs": [
    {
     "name": "stdout",
     "output_type": "stream",
     "text": [
      "Comparing dataset columns:\n",
      "Differences (amazon_1 vs amazon_may19): Index(['reviews.dateAdded'], dtype='object')\n",
      "Differences (amazon_1 vs 1429_1): Index(['dateAdded', 'dateUpdated', 'imageURLs', 'manufacturerNumber',\n",
      "       'primaryCategories', 'sourceURLs'],\n",
      "      dtype='object')\n",
      "\n",
      "--- Dataset Info ---\n",
      "<class 'pandas.core.frame.DataFrame'>\n",
      "RangeIndex: 5000 entries, 0 to 4999\n",
      "Data columns (total 24 columns):\n",
      " #   Column               Non-Null Count  Dtype  \n",
      "---  ------               --------------  -----  \n",
      " 0   id                   5000 non-null   object \n",
      " 1   dateAdded            5000 non-null   object \n",
      " 2   dateUpdated          5000 non-null   object \n",
      " 3   name                 5000 non-null   object \n",
      " 4   asins                5000 non-null   object \n",
      " 5   brand                5000 non-null   object \n",
      " 6   categories           5000 non-null   object \n",
      " 7   primaryCategories    5000 non-null   object \n",
      " 8   imageURLs            5000 non-null   object \n",
      " 9   keys                 5000 non-null   object \n",
      " 10  manufacturer         5000 non-null   object \n",
      " 11  manufacturerNumber   5000 non-null   object \n",
      " 12  reviews.date         5000 non-null   object \n",
      " 13  reviews.dateAdded    1052 non-null   object \n",
      " 14  reviews.dateSeen     5000 non-null   object \n",
      " 15  reviews.doRecommend  5000 non-null   bool   \n",
      " 16  reviews.id           29 non-null     float64\n",
      " 17  reviews.numHelpful   5000 non-null   int64  \n",
      " 18  reviews.rating       5000 non-null   int64  \n",
      " 19  reviews.sourceURLs   5000 non-null   object \n",
      " 20  reviews.text         5000 non-null   object \n",
      " 21  reviews.title        4987 non-null   object \n",
      " 22  reviews.username     4999 non-null   object \n",
      " 23  sourceURLs           5000 non-null   object \n",
      "dtypes: bool(1), float64(1), int64(2), object(20)\n",
      "memory usage: 903.4+ KB\n",
      "<class 'pandas.core.frame.DataFrame'>\n",
      "RangeIndex: 28332 entries, 0 to 28331\n",
      "Data columns (total 24 columns):\n",
      " #   Column               Non-Null Count  Dtype  \n",
      "---  ------               --------------  -----  \n",
      " 0   id                   28332 non-null  object \n",
      " 1   dateAdded            28332 non-null  object \n",
      " 2   dateUpdated          28332 non-null  object \n",
      " 3   name                 28332 non-null  object \n",
      " 4   asins                28332 non-null  object \n",
      " 5   brand                28332 non-null  object \n",
      " 6   categories           28332 non-null  object \n",
      " 7   primaryCategories    28332 non-null  object \n",
      " 8   imageURLs            28332 non-null  object \n",
      " 9   keys                 28332 non-null  object \n",
      " 10  manufacturer         28332 non-null  object \n",
      " 11  manufacturerNumber   28332 non-null  object \n",
      " 12  reviews.date         28332 non-null  object \n",
      " 13  reviews.dateSeen     28332 non-null  object \n",
      " 14  reviews.didPurchase  9 non-null      object \n",
      " 15  reviews.doRecommend  16086 non-null  object \n",
      " 16  reviews.id           41 non-null     float64\n",
      " 17  reviews.numHelpful   16115 non-null  float64\n",
      " 18  reviews.rating       28332 non-null  int64  \n",
      " 19  reviews.sourceURLs   28332 non-null  object \n",
      " 20  reviews.text         28332 non-null  object \n",
      " 21  reviews.title        28332 non-null  object \n",
      " 22  reviews.username     28327 non-null  object \n",
      " 23  sourceURLs           28332 non-null  object \n",
      "dtypes: float64(2), int64(1), object(21)\n",
      "memory usage: 5.2+ MB\n",
      "<class 'pandas.core.frame.DataFrame'>\n",
      "RangeIndex: 34660 entries, 0 to 34659\n",
      "Data columns (total 21 columns):\n",
      " #   Column                Non-Null Count  Dtype  \n",
      "---  ------                --------------  -----  \n",
      " 0   id                    34660 non-null  object \n",
      " 1   name                  27900 non-null  object \n",
      " 2   asins                 34658 non-null  object \n",
      " 3   brand                 34660 non-null  object \n",
      " 4   categories            34660 non-null  object \n",
      " 5   keys                  34660 non-null  object \n",
      " 6   manufacturer          34660 non-null  object \n",
      " 7   reviews.date          34621 non-null  object \n",
      " 8   reviews.dateAdded     24039 non-null  object \n",
      " 9   reviews.dateSeen      34660 non-null  object \n",
      " 10  reviews.didPurchase   1 non-null      object \n",
      " 11  reviews.doRecommend   34066 non-null  object \n",
      " 12  reviews.id            1 non-null      float64\n",
      " 13  reviews.numHelpful    34131 non-null  float64\n",
      " 14  reviews.rating        34627 non-null  float64\n",
      " 15  reviews.sourceURLs    34660 non-null  object \n",
      " 16  reviews.text          34659 non-null  object \n",
      " 17  reviews.title         34654 non-null  object \n",
      " 18  reviews.userCity      0 non-null      float64\n",
      " 19  reviews.userProvince  0 non-null      float64\n",
      " 20  reviews.username      34653 non-null  object \n",
      "dtypes: float64(5), object(16)\n",
      "memory usage: 5.6+ MB\n"
     ]
    }
   ],
   "source": [
    "print(\"Comparing dataset columns:\")\n",
    "print(\"Differences (amazon_1 vs amazon_may19):\",\n",
    "      datafiniti_amazon_1.columns.difference(datafiniti_amazon_may19.columns))\n",
    "print(\"Differences (amazon_1 vs 1429_1):\",\n",
    "      datafiniti_amazon_1.columns.difference(data_1429_1.columns))\n",
    "\n",
    "print(\"\\n--- Dataset Info ---\")\n",
    "datafiniti_amazon_1.info()\n",
    "datafiniti_amazon_may19.info()\n",
    "data_1429_1.info()"
   ]
  },
  {
   "cell_type": "markdown",
   "id": "40246dbd",
   "metadata": {},
   "source": [
    "## Plot Rating Distributions"
   ]
  },
  {
   "cell_type": "code",
   "execution_count": 4,
   "id": "94097723",
   "metadata": {},
   "outputs": [
    {
     "data": {
      "image/png": "[encoded data removed]",
      "text/plain": [
       "<Figure size 1000x600 with 1 Axes>"
      ]
     },
     "metadata": {},
     "output_type": "display_data"
    },
    {
     "data": {
      "image/png": "[encoded data removed]",
      "text/plain": [
       "<Figure size 1000x600 with 1 Axes>"
      ]
     },
     "metadata": {},
     "output_type": "display_data"
    },
    {
     "data": {
      "image/png": "[encoded data removed]",
      "text/plain": [
       "<Figure size 1000x600 with 1 Axes>"
      ]
     },
     "metadata": {},
     "output_type": "display_data"
    }
   ],
   "source": [
    "def plot_rating_distributions(datasets):\n",
    "    '''Plot histograms of rating distributions for multiple datasets.'''\n",
    "    for name, df in datasets.items():\n",
    "        if \"reviews.rating\" in df.columns:\n",
    "            plt.figure(figsize=(10, 6))\n",
    "            df_clean = df.dropna(subset=[\"reviews.rating\"])\n",
    "            plt.hist(\n",
    "                df_clean[\"reviews.rating\"],\n",
    "                bins=range(1, 7),\n",
    "                align=\"left\",\n",
    "                rwidth=0.8,\n",
    "                color=\"skyblue\",\n",
    "                edgecolor=\"black\",\n",
    "            )\n",
    "            plt.title(f\"Distribution of Ratings in {name}\")\n",
    "            plt.xlabel(\"Rating\")\n",
    "            plt.ylabel(\"Frequency\")\n",
    "            plt.xticks(range(1, 6))\n",
    "            plt.grid(axis=\"y\", alpha=0.75)\n",
    "            plt.show()\n",
    "\n",
    "datasets = {\n",
    "    \"amazon_1\": datafiniti_amazon_1,\n",
    "    \"amazon_may19\": datafiniti_amazon_may19,\n",
    "    \"data_1429_1\": data_1429_1,\n",
    "}\n",
    "plot_rating_distributions(datasets)"
   ]
  },
  {
   "cell_type": "markdown",
   "id": "696dab94",
   "metadata": {},
   "source": [
    "## Data Merging - Step 1"
   ]
  },
  {
   "cell_type": "code",
   "execution_count": 5,
   "id": "34c9b4f5",
   "metadata": {},
   "outputs": [],
   "source": [
    "df1_pre = datafiniti_amazon_1.copy()\n",
    "df2_pre = datafiniti_amazon_may19.copy()\n",
    "\n",
    "DROP_COLS = [\"reviews.dateAdded\"]\n",
    "df1_pre = df1_pre.drop(columns=[c for c in DROP_COLS if c in df1_pre.columns], errors=\"ignore\")\n",
    "df2_pre = df2_pre.drop(columns=[c for c in DROP_COLS if c in df2_pre.columns], errors=\"ignore\")\n",
    "\n",
    "df1_pre = df1_pre.loc[:, ~df1_pre.columns.duplicated()]\n",
    "df2_pre = df2_pre.loc[:, ~df2_pre.columns.duplicated()]\n",
    "\n",
    "datafiniti_amazon_pre = pd.concat([df1_pre, df2_pre], ignore_index=True).drop_duplicates()"
   ]
  },
  {
   "cell_type": "markdown",
   "id": "de665d88",
   "metadata": {},
   "source": [
    "## Data Merging - Step 2"
   ]
  },
  {
   "cell_type": "code",
   "execution_count": 6,
   "id": "e16b046a",
   "metadata": {},
   "outputs": [],
   "source": [
    "df1 = datafiniti_amazon_pre.copy()\n",
    "df2 = data_1429_1.copy()\n",
    "\n",
    "df1 = df1.rename(columns={\"primaryCategories\": \"categories\"})\n",
    "\n",
    "DROP_COLS = [\n",
    "    \"reviews.didPurchase\", \"reviews.id\", \"reviews.userCity\", \"reviews.userProvince\",\n",
    "    \"imageURLs\", \"dateAdded\", \"dateUpdated\", \"manufacturerNumber\", \"sourceURLs\",\n",
    "]\n",
    "df1 = df1.drop(columns=[c for c in DROP_COLS if c in df1.columns], errors=\"ignore\")\n",
    "df2 = df2.drop(columns=[c for c in DROP_COLS if c in df2.columns], errors=\"ignore\")\n",
    "\n",
    "df1 = df1.loc[:, ~df1.columns.duplicated()]\n",
    "df2 = df2.loc[:, ~df2.columns.duplicated()]\n",
    "\n",
    "if \"reviews.doRecommend\" in df1.columns:\n",
    "    df1[\"reviews.doRecommend\"] = (\n",
    "        df1[\"reviews.doRecommend\"]\n",
    "        .map({\"TRUE\": True, \"FALSE\": False, \"true\": True, \"false\": False,\n",
    "              \"True\": True, \"False\": False, None: None})\n",
    "        .astype(\"boolean\")\n",
    "    )\n",
    "\n",
    "if \"reviews.doRecommend\" in df2.columns:\n",
    "    df2[\"reviews.doRecommend\"] = df2[\"reviews.doRecommend\"].astype(\"boolean\", errors=\"ignore\")\n",
    "\n",
    "if \"reviews.numHelpful\" in df1.columns:\n",
    "    df1[\"reviews.numHelpful\"] = (\n",
    "        pd.to_numeric(df1[\"reviews.numHelpful\"], errors=\"coerce\").fillna(0).astype(int)\n",
    "    )\n",
    "\n",
    "COMMON_COLS = list(df1.columns.intersection(df2.columns))\n",
    "for col in COMMON_COLS:\n",
    "    if df1[col].dtype != df2[col].dtype:\n",
    "        df1[col] = pd.to_numeric(df1[col], errors=\"coerce\").fillna(pd.NA)\n",
    "        df2[col] = pd.to_numeric(df2[col], errors=\"coerce\").fillna(pd.NA)\n",
    "\n",
    "datafiniti_amazon = pd.concat([df1, df2], ignore_index=True).drop_duplicates()"
   ]
  },
  {
   "cell_type": "markdown",
   "id": "9fcaf9b6",
   "metadata": {},
   "source": [
    "## Missing Values"
   ]
  },
  {
   "cell_type": "code",
   "execution_count": 7,
   "id": "5f213e1d",
   "metadata": {},
   "outputs": [
    {
     "name": "stdout",
     "output_type": "stream",
     "text": [
      "Missing values per column:\n",
      " name                    6760\n",
      "asins                      2\n",
      "reviews.date              39\n",
      "reviews.doRecommend    33285\n",
      "reviews.numHelpful       529\n",
      "reviews.rating            33\n",
      "reviews.text               1\n",
      "reviews.title             19\n",
      "reviews.username          12\n",
      "reviews.dateAdded      43312\n",
      "dtype: int64\n",
      "\n",
      "Missing values percentage per column:\n",
      " name                   10.036970\n",
      "asins                   0.002970\n",
      "reviews.date            0.057906\n",
      "reviews.doRecommend    49.420202\n",
      "reviews.numHelpful      0.785437\n",
      "reviews.rating          0.048997\n",
      "reviews.text            0.001485\n",
      "reviews.title           0.028210\n",
      "reviews.username        0.017817\n",
      "reviews.dateAdded      64.307880\n",
      "dtype: float64\n"
     ]
    }
   ],
   "source": [
    "missing_values = datafiniti_amazon.isnull().sum()\n",
    "print(\"Missing values per column:\\n\", missing_values[missing_values > 0])\n",
    "\n",
    "total_rows = len(datafiniti_amazon)\n",
    "missing_percentage = (missing_values / total_rows) * 100\n",
    "print(\"\\nMissing values percentage per column:\\n\", missing_percentage[missing_percentage > 0])"
   ]
  },
  {
   "cell_type": "markdown",
   "id": "1d471f80",
   "metadata": {},
   "source": [
    "## Handle Missing Values"
   ]
  },
  {
   "cell_type": "code",
   "execution_count": 8,
   "id": "d320a047",
   "metadata": {},
   "outputs": [],
   "source": [
    "if \"name\" in datafiniti_amazon.columns:\n",
    "    datafiniti_amazon[\"name\"] = datafiniti_amazon[\"name\"].fillna(\"Anon\")\n",
    "\n",
    "if \"reviews.doRecommend\" in datafiniti_amazon.columns:\n",
    "    datafiniti_amazon[\"reviews.doRecommend\"] = datafiniti_amazon[\"reviews.doRecommend\"].fillna(False)\n",
    "\n",
    "if \"reviews.dateAdded\" in datafiniti_amazon.columns:\n",
    "    datafiniti_amazon = datafiniti_amazon.drop(columns=[\"reviews.dateAdded\"])\n",
    "\n",
    "if \"asins\" in datafiniti_amazon.columns:\n",
    "    datafiniti_amazon[\"asins\"] = datafiniti_amazon[\"asins\"].fillna(\"Unknown\")\n",
    "\n",
    "if \"reviews.date\" in datafiniti_amazon.columns:\n",
    "    datafiniti_amazon[\"reviews.date\"] = pd.to_datetime(datafiniti_amazon[\"reviews.date\"], errors=\"coerce\")\n",
    "    median_date = datafiniti_amazon[\"reviews.date\"].median()\n",
    "    datafiniti_amazon[\"reviews.date\"] = datafiniti_amazon[\"reviews.date\"].fillna(median_date)\n",
    "\n",
    "if \"reviews.numHelpful\" in datafiniti_amazon.columns:\n",
    "    datafiniti_amazon[\"reviews.numHelpful\"] = datafiniti_amazon[\"reviews.numHelpful\"].fillna(0)\n",
    "\n",
    "datafiniti_amazon = datafiniti_amazon.dropna(subset=[\"reviews.rating\", \"reviews.text\"])\n",
    "\n",
    "if \"reviews.title\" in datafiniti_amazon.columns:\n",
    "    datafiniti_amazon = datafiniti_amazon.rename(columns={\"reviews.title\": \"title\"})\n",
    "    datafiniti_amazon[\"title\"] = datafiniti_amazon[\"title\"].fillna(\"title\")\n",
    "\n",
    "if \"reviews.username\" in datafiniti_amazon.columns:\n",
    "    datafiniti_amazon[\"reviews.username\"] = datafiniti_amazon[\"reviews.username\"].fillna(\"Anon\")"
   ]
  },
  {
   "cell_type": "markdown",
   "id": "bbc4a627",
   "metadata": {},
   "source": [
    "## Column Renaming"
   ]
  },
  {
   "cell_type": "code",
   "execution_count": 9,
   "id": "63e62375",
   "metadata": {},
   "outputs": [],
   "source": [
    "datafiniti_amazon = datafiniti_amazon.rename(\n",
    "    columns={col: col.replace(\"reviews.\", \"\") for col in datafiniti_amazon.columns}\n",
    ")"
   ]
  },
  {
   "cell_type": "markdown",
   "id": "83cfc9dd",
   "metadata": {},
   "source": [
    "## Sentiment Mapping"
   ]
  },
  {
   "cell_type": "code",
   "execution_count": 10,
   "id": "36ece67c",
   "metadata": {},
   "outputs": [],
   "source": [
    "if \"rating\" in datafiniti_amazon.columns:\n",
    "    def map_rating_to_sentiment(rating):\n",
    "        if rating >= 4:\n",
    "            return \"Positive\"\n",
    "        if rating == 3:\n",
    "            return \"Neutral\"\n",
    "        return \"Negative\"\n",
    "\n",
    "    datafiniti_amazon[\"star_sentiment\"] = datafiniti_amazon[\"rating\"].apply(map_rating_to_sentiment)"
   ]
  },
  {
   "cell_type": "markdown",
   "id": "441b4bb0",
   "metadata": {},
   "source": [
    "## Trustworthiness Column"
   ]
  },
  {
   "cell_type": "code",
   "execution_count": 11,
   "id": "a5102341",
   "metadata": {},
   "outputs": [],
   "source": [
    "if \"doRecommend\" in datafiniti_amazon.columns and \"star_sentiment\" in datafiniti_amazon.columns:\n",
    "    def determine_trustworthy(row):\n",
    "        sentiment = row[\"star_sentiment\"]\n",
    "        recommend = row[\"doRecommend\"]\n",
    "        if sentiment == \"Positive\":\n",
    "            return recommend\n",
    "        if sentiment == \"Neutral\":\n",
    "            return True\n",
    "        if sentiment == \"Negative\":\n",
    "            return not recommend\n",
    "        return None\n",
    "\n",
    "    datafiniti_amazon[\"trustworthy\"] = datafiniti_amazon.apply(determine_trustworthy, axis=1)"
   ]
  },
  {
   "cell_type": "code",
   "execution_count": 12,
   "id": "2a933330",
   "metadata": {},
   "outputs": [
    {
     "name": "stdout",
     "output_type": "stream",
     "text": [
      "<class 'pandas.core.frame.DataFrame'>\n",
      "Index: 67317 entries, 0 to 67896\n",
      "Data columns (total 18 columns):\n",
      " #   Column          Non-Null Count  Dtype              \n",
      "---  ------          --------------  -----              \n",
      " 0   id              67317 non-null  object             \n",
      " 1   name            67317 non-null  object             \n",
      " 2   asins           67317 non-null  object             \n",
      " 3   brand           67317 non-null  object             \n",
      " 4   categories      67317 non-null  object             \n",
      " 5   keys            67317 non-null  object             \n",
      " 6   manufacturer    67317 non-null  object             \n",
      " 7   date            67317 non-null  datetime64[ns, UTC]\n",
      " 8   dateSeen        67317 non-null  object             \n",
      " 9   doRecommend     67317 non-null  boolean            \n",
      " 10  numHelpful      67317 non-null  float64            \n",
      " 11  rating          67317 non-null  float64            \n",
      " 12  sourceURLs      67317 non-null  object             \n",
      " 13  text            67317 non-null  object             \n",
      " 14  title           67317 non-null  object             \n",
      " 15  username        67317 non-null  object             \n",
      " 16  star_sentiment  67317 non-null  object             \n",
      " 17  trustworthy     67317 non-null  bool               \n",
      "dtypes: bool(1), boolean(1), datetime64[ns, UTC](1), float64(2), object(13)\n",
      "memory usage: 8.9+ MB\n"
     ]
    }
   ],
   "source": [
    "datafiniti_amazon.info()"
   ]
  },
  {
   "cell_type": "markdown",
   "id": "559b9622",
   "metadata": {},
   "source": [
    "## Data Visualizations"
   ]
  },
  {
   "cell_type": "code",
   "execution_count": null,
   "id": "7e94fe78",
   "metadata": {},
   "outputs": [],
   "source": [
    "sns.set_style(\"whitegrid\")\n",
    "plt.figure(figsize=(15, 12))\n",
    "\n",
    "if \"star_sentiment\" in datafiniti_amazon.columns:\n",
    "    plt.subplot(2, 2, 1)\n",
    "    sns.countplot(x=\"star_sentiment\", data=datafiniti_amazon,\n",
    "                  palette=\"viridis\", hue=\"trustworthy\", legend=False)\n",
    "    plt.title(\"Distribution of Sentiment\")\n",
    "\n",
    "if \"name\" in datafiniti_amazon.columns:\n",
    "    plt.subplot(2, 2, 2)\n",
    "    top_products = datafiniti_amazon[\"name\"].value_counts().nlargest(10)\n",
    "    sns.barplot(x=top_products.values, y=top_products.index, palette=\"magma\", legend=False)\n",
    "    plt.title(\"Top 10 Products by Number of Reviews\")\n",
    "\n",
    "if \"doRecommend\" in datafiniti_amazon.columns:\n",
    "    plt.subplot(2, 2, 3)\n",
    "    sns.countplot(x=\"doRecommend\", data=datafiniti_amazon,\n",
    "                  palette=\"cividis\", legend=False)\n",
    "    plt.title(\"Distribution of Recommendation\")\n",
    "\n",
    "if \"date\" in datafiniti_amazon.columns:\n",
    "    plt.subplot(2, 2, 4)\n",
    "    datafiniti_amazon[\"date\"] = pd.to_datetime(datafiniti_amazon[\"date\"], errors=\"coerce\")\n",
    "    reviews_over_time = datafiniti_amazon.set_index(\"date\").resample(\"ME\").size()\n",
    "    reviews_over_time.plot(kind=\"line\", marker=\"o\", linestyle=\"-\", color=\"skyblue\")\n",
    "    plt.title(\"Number of Reviews Over Time\")\n",
    "\n",
    "plt.tight_layout()\n",
    "plt.show()"
   ]
  },
  {
   "cell_type": "markdown",
   "id": "5b397fee",
   "metadata": {},
   "source": [
    "## Save Cleaned Data"
   ]
  },
  {
   "cell_type": "code",
   "execution_count": null,
   "id": "6354a43f",
   "metadata": {},
   "outputs": [],
   "source": [
    "OUTPUT_FILE = \"Datafiniti_Amazon_Consumer_Reviews_of_Amazon_Products_cleaned.csv\"\n",
    "OUTPUT_PATH = os.path.join(SCRIPT_DIR, \"../data/processed/\", OUTPUT_FILE)\n",
    "datafiniti_amazon.to_csv(OUTPUT_PATH, index=False)"
   ]
  }
 ],
 "metadata": {
  "kernelspec": {
   "display_name": "project_nlp_env",
   "language": "python",
   "name": "python3"
  },
  "language_info": {
   "codemirror_mode": {
    "name": "ipython",
    "version": 3
   },
   "file_extension": ".py",
   "mimetype": "text/x-python",
   "name": "python",
   "nbconvert_exporter": "python",
   "pygments_lexer": "ipython3",
   "version": "3.13.5"
  }
 },
 "nbformat": 4,
 "nbformat_minor": 5
}
